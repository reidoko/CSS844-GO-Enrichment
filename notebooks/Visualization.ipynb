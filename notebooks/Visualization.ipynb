{
 "cells": [
  {
   "cell_type": "markdown",
   "id": "magnetic-bishop",
   "metadata": {},
   "source": [
    "For this notebook you need:\n",
    "- Graph csv and json files\n",
    "- Table with an orthogroups column and a column for every species containing which genes correspond to that orthogroup\n",
    "- results from `find_enrichments.py` (see preprocessing)\n",
    "\n",
    "# Reading the graph\n",
    "The read_graph function uses the json and csv files corresponding to the graph as well as the table which maps orthogroups to genes to create a networkx graph.\n",
    "- Node name is the name in the 'Node ID' column in the csv file\n",
    "- Each node has the following attributes:\n",
    "    - orthogroups: List of orthogroups\n",
    "    - \\<species label\\>: Genes in that species corresponding to that orthogroup"
   ]
  },
  {
   "cell_type": "code",
   "execution_count": 1,
   "id": "executive-knife",
   "metadata": {},
   "outputs": [],
   "source": [
    "import json\n",
    "import pandas as pd\n",
    "import networkx as nx\n",
    "import matplotlib.pyplot as plt\n",
    "import numpy as np\n",
    "from pathlib import Path\n",
    "\n",
    "# Reads a graph from a json file and returns it as a networkx graph object\n",
    "def read_graph(path_to_json, path_to_csv, path_to_orthogroups):\n",
    "    \"\"\"\n",
    "    Construct a graph with json with the graph structure, csv with the graph node info, and a tsv orthogroup\n",
    "    \n",
    "    input:\n",
    "        path_to_json:   json graph file\n",
    "        path_to_csv:    csv file with the orthogroups\n",
    "        orthogroup_csv: csv file with orthogroup and corresponding lists of genes\n",
    "    output:\n",
    "        networkx graph where each node has the following attributes:\n",
    "        - orthogroups containing a list of every orthogroup\n",
    "        - <species name> for every species column in the orthogroup_csv file \n",
    "          containing a list of genes contained by the orthogroups\n",
    "    \n",
    "    Note: In the future I should modify this to take dataframes instead of paths since this requires an exact format of the data,\n",
    "    whereas its much easier to just reformat a dataframe.\n",
    "    \"\"\"\n",
    "    # Read the graph json file\n",
    "    with open(path_to_json, 'r') as fi:\n",
    "        graph_data = json.load(fi)\n",
    "    \n",
    "    # Read the graph csv\n",
    "    node_info_df = pd.read_csv(path_to_csv)\n",
    "    node_info_df = node_info_df.set_index(['Ortho Index', 'Node ID'])\n",
    "    node_info_df = node_info_df.drop('Unnamed: 0', axis=1)\n",
    "    \n",
    "    # Read the orthogroup tsv\n",
    "    orthogroup_df = pd.read_csv(path_to_orthogroups, delimiter='\\t')\n",
    "    orthogroup_df = orthogroup_df.set_index('Orthogroup')\n",
    "    \n",
    "    # Construct the graph with our data\n",
    "    G = nx.graph.Graph()\n",
    "    for node, og_indices in graph_data['nodes'].items():\n",
    "        # Find which orthogroups are in the node\n",
    "        orthogroups_in_node = [node_info_df.loc[og_idx, node]['Orthogroup'] for og_idx in og_indices]\n",
    "        \n",
    "        # Add that node and give it an attribute corresponding to its orthogroups\n",
    "        G.add_node(node, orthogroups=orthogroups_in_node)\n",
    "        \n",
    "        # For every species, add the genes belonging to the orthogroups to the node\n",
    "        for species in orthogroup_df.columns:\n",
    "            genes = []\n",
    "            for orthogroup in orthogroups_in_node:\n",
    "                value = orthogroup_df.loc[orthogroup][species]\n",
    "                if not type(value) == float:\n",
    "                    # Sometimes a species does not have a gene in the orthogroup, in that case it is 'nan', which is type float\n",
    "                    genes.extend(value.split(', '))\n",
    "            G.nodes.get(node)[species] = genes # Assign the attributes   \n",
    "    \n",
    "    # Add the edges to the graph\n",
    "    G.add_edges_from(graph_data['edges'])\n",
    "    \n",
    "    return G\n",
    "\n",
    "def add_enrichments(graph, enrichment_prefix, enrichment_suffix):\n",
    "    \"\"\"\n",
    "    graph: networkx object to add these attributes to\n",
    "    result_prefix & result suffix: text that goes before and after the node name in the file\n",
    "    \"\"\"\n",
    "    for node_name, node_attributes in graph.nodes.items():\n",
    "        # This assumes that the file has the node name in the name\n",
    "        node_file_path = Path(f'{enrichment_prefix}{node_name}{enrichment_suffix}')\n",
    "        if node_file_path.exists():\n",
    "            node_data = pd.read_csv(node_file_path, delimiter='\\t')\n",
    "            enrichment_mask = node_data['enrichment'] == 'e'\n",
    "            purified_mask = node_data['enrichment'] == 'p'\n",
    "            node_attributes['enriched'] = list(node_data[enrichment_mask]['name'])\n",
    "            node_attributes['purified'] = list(node_data[purified_mask]['name'])\n",
    "        else:\n",
    "            node_attributes['enriched'] = []\n",
    "            node_attributes['purified'] = []\n"
   ]
  },
  {
   "cell_type": "markdown",
   "id": "skilled-preference",
   "metadata": {},
   "source": [
    "Now, let's read a graph and look at/interact with it"
   ]
  },
  {
   "cell_type": "code",
   "execution_count": 2,
   "id": "loose-nepal",
   "metadata": {},
   "outputs": [],
   "source": [
    "orthogroup_path = \"data/Orthogroups_filtered.tsv\"\n",
    "FilterBy_family = read_graph(\"data/Mapper_Graphs/FilterBy_family_Cubes_70_Overlap_80.json\", \n",
    "                            \"data/Mapper_Graphs/FilterBy_family_Cubes_70_Overlap_80.csv\", \n",
    "                            orthogroup_path)"
   ]
  },
  {
   "cell_type": "code",
   "execution_count": 3,
   "id": "returning-stock",
   "metadata": {},
   "outputs": [],
   "source": [
    "add_enrichments(FilterBy_family, \"data/find_enrichment_results/FilterBy_family_Cubes_70_Overlap_80/study_\", \".txt_enrichment.tsv\")"
   ]
  },
  {
   "cell_type": "markdown",
   "id": "expected-batch",
   "metadata": {},
   "source": [
    "To visualize, we will use the [pyvis](https://pyvis.readthedocs.io/en/latest/index.html) package"
   ]
  },
  {
   "cell_type": "code",
   "execution_count": 4,
   "id": "moral-mercury",
   "metadata": {},
   "outputs": [
    {
     "data": {
      "text/html": [
       "\n",
       "        <iframe\n",
       "            width=\"800px\"\n",
       "            height=\"600px\"\n",
       "            src=\"example.html\"\n",
       "            frameborder=\"0\"\n",
       "            allowfullscreen\n",
       "        ></iframe>\n",
       "        "
      ],
      "text/plain": [
       "<IPython.lib.display.IFrame at 0x7fe0c383abb0>"
      ]
     },
     "execution_count": 4,
     "metadata": {},
     "output_type": "execute_result"
    }
   ],
   "source": [
    "from pyvis import network as net\n",
    "\n",
    "g = net.Network(notebook=True, width='800px', height='600px')\n",
    "g.from_nx(FilterBy_family)\n",
    "g.show(\"example.html\")"
   ]
  },
  {
   "cell_type": "markdown",
   "id": "single-charles",
   "metadata": {},
   "source": [
    "If we set the `title` attribute to a node in this graph, it shows a text box when you hover over it."
   ]
  },
  {
   "cell_type": "code",
   "execution_count": 5,
   "id": "rotary-painting",
   "metadata": {},
   "outputs": [],
   "source": [
    "def annotate_with_enrichment(graph):\n",
    "    for node_attributes in graph.nodes.values():\n",
    "        enrichment = \"<br>\".join(node_attributes['enriched'])\n",
    "        if enrichment:\n",
    "            node_attributes['title'] = enrichment\n",
    "        else:\n",
    "            node_attributes['title'] = \"No enrichment found\""
   ]
  },
  {
   "cell_type": "code",
   "execution_count": 6,
   "id": "frozen-gregory",
   "metadata": {},
   "outputs": [],
   "source": [
    "annotate_with_enrichment(FilterBy_family)"
   ]
  },
  {
   "cell_type": "markdown",
   "id": "aware-guatemala",
   "metadata": {},
   "source": [
    "Now if we hover over the nodes, it will show a list of nodes which are enriched."
   ]
  },
  {
   "cell_type": "code",
   "execution_count": 7,
   "id": "sunrise-massachusetts",
   "metadata": {},
   "outputs": [
    {
     "data": {
      "text/html": [
       "\n",
       "        <iframe\n",
       "            width=\"800px\"\n",
       "            height=\"600px\"\n",
       "            src=\"example.html\"\n",
       "            frameborder=\"0\"\n",
       "            allowfullscreen\n",
       "        ></iframe>\n",
       "        "
      ],
      "text/plain": [
       "<IPython.lib.display.IFrame at 0x7fe0c383af10>"
      ]
     },
     "execution_count": 7,
     "metadata": {},
     "output_type": "execute_result"
    }
   ],
   "source": [
    "g = net.Network(notebook=True, width='800px', height='600px')\n",
    "g.from_nx(FilterBy_family)\n",
    "g.show(\"example.html\")"
   ]
  },
  {
   "cell_type": "markdown",
   "id": "previous-optimization",
   "metadata": {},
   "source": [
    "## Coloring by GO terms\n",
    "\n",
    "We can write code to recolor nodes in the graph on certain conditions, such as if a node contains enrichment in some GO terms"
   ]
  },
  {
   "cell_type": "code",
   "execution_count": 8,
   "id": "corporate-provincial",
   "metadata": {},
   "outputs": [],
   "source": [
    "def reset_color(graph, color=None):\n",
    "    # For setting all the nodes in the graph to the same color\n",
    "    for node in graph.nodes.values():\n",
    "        node['color'] = color\n",
    "\n",
    "def color_if_enriched(graph, go_term, color='#7acc7d'):\n",
    "    # Only recolors a node if it matches exactly\n",
    "    for node in graph.nodes.values():\n",
    "        if go_term in node['enriched']:\n",
    "            node['color'] = color\n",
    "            \n",
    "def color_if_contains(graph, keywords, color='#7acc7d'):\n",
    "    for node in graph.nodes.values():\n",
    "        for go_term in node['enriched']:\n",
    "            if sum([keyword in go_term for keyword in keywords]):\n",
    "                node['color'] = color\n",
    "                break\n",
    "\n",
    "def color_no_enrichment(graph, color='#aaaaaa'):\n",
    "    for node in graph.nodes.values():\n",
    "        if not node['enriched']:\n",
    "            node['color'] = color"
   ]
  },
  {
   "cell_type": "code",
   "execution_count": 9,
   "id": "tribal-franchise",
   "metadata": {},
   "outputs": [
    {
     "data": {
      "text/html": [
       "\n",
       "        <iframe\n",
       "            width=\"800px\"\n",
       "            height=\"600px\"\n",
       "            src=\"example.html\"\n",
       "            frameborder=\"0\"\n",
       "            allowfullscreen\n",
       "        ></iframe>\n",
       "        "
      ],
      "text/plain": [
       "<IPython.lib.display.IFrame at 0x7fe0c38559d0>"
      ]
     },
     "execution_count": 9,
     "metadata": {},
     "output_type": "execute_result"
    }
   ],
   "source": [
    "reset_color(FilterBy_family)\n",
    "color_if_enriched(FilterBy_family, 'chloroplast')\n",
    "g = net.Network(notebook=True, width='800px', height='600px')\n",
    "g.from_nx(FilterBy_family)\n",
    "g.show(\"example.html\")"
   ]
  },
  {
   "cell_type": "code",
   "execution_count": 10,
   "id": "sublime-validation",
   "metadata": {},
   "outputs": [
    {
     "data": {
      "text/html": [
       "\n",
       "        <iframe\n",
       "            width=\"800px\"\n",
       "            height=\"600px\"\n",
       "            src=\"example.html\"\n",
       "            frameborder=\"0\"\n",
       "            allowfullscreen\n",
       "        ></iframe>\n",
       "        "
      ],
      "text/plain": [
       "<IPython.lib.display.IFrame at 0x7fe0c3855df0>"
      ]
     },
     "execution_count": 10,
     "metadata": {},
     "output_type": "execute_result"
    }
   ],
   "source": [
    "reset_color(FilterBy_family)\n",
    "color_no_enrichment(FilterBy_family)\n",
    "color_if_contains(FilterBy_family, ['light'], color='#b7668d')\n",
    "g = net.Network(notebook=True, width='800px', height='600px')\n",
    "g.from_nx(FilterBy_family)\n",
    "g.show(\"example.html\")"
   ]
  },
  {
   "cell_type": "markdown",
   "id": "extraordinary-geology",
   "metadata": {},
   "source": [
    "If we want to look at what enriched GO terms we have in our graph, we can do the following"
   ]
  },
  {
   "cell_type": "code",
   "execution_count": 11,
   "id": "precise-gamma",
   "metadata": {},
   "outputs": [
    {
     "name": "stdout",
     "output_type": "stream",
     "text": [
      "# of unqiue enriched GO terms: 164\n"
     ]
    },
    {
     "data": {
      "text/plain": [
       "{'2-oxo-4-hydroxy-4-carboxy-5-ureidoimidazoline decarboxylase activity',\n",
       " 'ATP binding',\n",
       " 'Golgi apparatus',\n",
       " 'Golgi apparatus subcompartment',\n",
       " 'Golgi cis cisterna',\n",
       " 'Golgi cisterna',\n",
       " 'Golgi trans cisterna',\n",
       " 'adenyl nucleotide binding',\n",
       " 'adenyl ribonucleotide binding',\n",
       " 'anchored component of membrane',\n",
       " 'anchored component of plasma membrane',\n",
       " 'anchoring junction',\n",
       " 'anion binding',\n",
       " 'apoplast',\n",
       " 'binding',\n",
       " 'biological process involved in interspecies interaction between organisms',\n",
       " 'biological regulation',\n",
       " 'biological_process',\n",
       " 'biosynthetic process',\n",
       " 'bounding membrane of organelle',\n",
       " 'carbohydrate derivative binding',\n",
       " 'carbon-carbon lyase activity',\n",
       " 'carboxy-lyase activity',\n",
       " 'catalytic activity',\n",
       " 'cation binding',\n",
       " 'cell junction',\n",
       " 'cell wall',\n",
       " 'cell-cell junction',\n",
       " 'cellular anatomical entity',\n",
       " 'cellular biosynthetic process',\n",
       " 'cellular component organization',\n",
       " 'cellular component organization or biogenesis',\n",
       " 'cellular lipid metabolic process',\n",
       " 'cellular nitrogen compound metabolic process',\n",
       " 'cellular response to stimulus',\n",
       " 'cellular response to stress',\n",
       " 'cellular_component',\n",
       " 'chloroplast',\n",
       " 'chloroplast envelope',\n",
       " 'chloroplast membrane',\n",
       " 'chloroplast nucleoid',\n",
       " 'chloroplast outer membrane',\n",
       " 'chloroplast stroma',\n",
       " 'chloroplast thylakoid',\n",
       " 'chloroplast thylakoid membrane',\n",
       " 'cis-Golgi network',\n",
       " 'copper ion binding',\n",
       " 'cytoplasm',\n",
       " 'cytosol',\n",
       " 'cytosolic ribosome',\n",
       " 'defense response',\n",
       " 'defense response to bacterium',\n",
       " 'defense response to other organism',\n",
       " 'detection of abiotic stimulus',\n",
       " 'detection of external stimulus',\n",
       " 'detection of light stimulus',\n",
       " 'detection of stimulus',\n",
       " 'developmental process',\n",
       " 'endoplasmic reticulum',\n",
       " 'envelope',\n",
       " 'external encapsulating structure',\n",
       " 'extracellular region',\n",
       " 'heterocycle metabolic process',\n",
       " 'heterocyclic compound binding',\n",
       " 'holo-[acyl-carrier-protein] synthase activity',\n",
       " 'hydrolase activity',\n",
       " 'hydrolase activity, acting on carbon-nitrogen (but not peptide) bonds',\n",
       " 'hydrolase activity, acting on carbon-nitrogen (but not peptide) bonds, in cyclic amides',\n",
       " 'hydroxyisourate hydrolase activity',\n",
       " 'intracellular anatomical structure',\n",
       " 'intracellular membrane-bounded organelle',\n",
       " 'intracellular non-membrane-bounded organelle',\n",
       " 'intracellular organelle',\n",
       " 'intrinsic component of membrane',\n",
       " 'intrinsic component of plasma membrane',\n",
       " 'ion binding',\n",
       " 'lipid biosynthetic process',\n",
       " 'lipid metabolic process',\n",
       " 'lyase activity',\n",
       " 'membrane',\n",
       " 'membrane-bounded organelle',\n",
       " 'metabolic process',\n",
       " 'metal ion binding',\n",
       " 'microbody',\n",
       " 'mitochondrion',\n",
       " 'molecular_function',\n",
       " 'multicellular organism development',\n",
       " 'negative regulation of biological process',\n",
       " 'negative regulation of cellular process',\n",
       " 'non-membrane-bounded organelle',\n",
       " 'nucleoid',\n",
       " 'nucleolus',\n",
       " 'nucleoside phosphate binding',\n",
       " 'nucleotide binding',\n",
       " 'nucleus',\n",
       " 'organelle',\n",
       " 'organelle envelope',\n",
       " 'organelle membrane',\n",
       " 'organelle organization',\n",
       " 'organelle outer membrane',\n",
       " 'organelle subcompartment',\n",
       " 'organic cyclic compound binding',\n",
       " 'organic cyclic compound metabolic process',\n",
       " 'organic substance biosynthetic process',\n",
       " 'outer membrane',\n",
       " 'perinuclear region of cytoplasm',\n",
       " 'peroxisome',\n",
       " 'phosphotransferase activity, for other substituted phosphate groups',\n",
       " 'photosynthetic membrane',\n",
       " 'phototransduction',\n",
       " 'plasma membrane',\n",
       " 'plasmodesma',\n",
       " 'plastid',\n",
       " 'plastid envelope',\n",
       " 'plastid membrane',\n",
       " 'plastid nucleoid',\n",
       " 'plastid outer membrane',\n",
       " 'plastid stroma',\n",
       " 'plastid thylakoid',\n",
       " 'plastid thylakoid membrane',\n",
       " 'plastoglobule',\n",
       " 'protein phosphopantetheinylation',\n",
       " 'purine nucleotide binding',\n",
       " 'purine ribonucleoside triphosphate binding',\n",
       " 'purine ribonucleotide binding',\n",
       " 'red, far-red light phototransduction',\n",
       " 'regulation of biological process',\n",
       " 'regulation of cellular amine metabolic process',\n",
       " 'regulation of cellular amino acid metabolic process',\n",
       " 'regulation of cellular ketone metabolic process',\n",
       " 'regulation of cellular process',\n",
       " 'regulation of gene expression',\n",
       " 'regulation of glutamine family amino acid metabolic process',\n",
       " 'regulation of macromolecule metabolic process',\n",
       " 'regulation of proline metabolic process',\n",
       " 'regulation of small molecule metabolic process',\n",
       " 'reproductive process',\n",
       " 'response to abiotic stimulus',\n",
       " 'response to bacterium',\n",
       " 'response to biotic stimulus',\n",
       " 'response to cadmium ion',\n",
       " 'response to chemical',\n",
       " 'response to ethylene',\n",
       " 'response to external biotic stimulus',\n",
       " 'response to external stimulus',\n",
       " 'response to inorganic substance',\n",
       " 'response to light stimulus',\n",
       " 'response to metal ion',\n",
       " 'response to other organism',\n",
       " 'response to radiation',\n",
       " 'response to stimulus',\n",
       " 'response to stress',\n",
       " 'ribonucleotide binding',\n",
       " 'ribosome',\n",
       " 'signal transduction',\n",
       " 'small molecule binding',\n",
       " 'thylakoid',\n",
       " 'thylakoid lumen',\n",
       " 'thylakoid membrane',\n",
       " 'transferase activity',\n",
       " 'transferase activity, transferring phosphorus-containing groups',\n",
       " 'transition metal ion binding',\n",
       " 'vacuolar membrane',\n",
       " 'vacuole'}"
      ]
     },
     "execution_count": 11,
     "metadata": {},
     "output_type": "execute_result"
    }
   ],
   "source": [
    "all_enriched_GO_terms = set()\n",
    "for node in FilterBy_family.nodes.values():\n",
    "    all_enriched_GO_terms.update(set(node['enriched']))\n",
    "print(f\"# of unqiue enriched GO terms: {len(all_enriched_GO_terms)}\")\n",
    "all_enriched_GO_terms"
   ]
  },
  {
   "cell_type": "code",
   "execution_count": 12,
   "id": "optimum-newsletter",
   "metadata": {},
   "outputs": [],
   "source": [
    "FilterBy_stress = read_graph(\"data/Mapper_Graphs/FilterBy_stress_Cubes_90_Overlap_80.json\", \n",
    "                             \"data/Mapper_Graphs/FilterBy_stress_Cubes_90_Overlap_80.csv\", \n",
    "                             orthogroup_path)"
   ]
  },
  {
   "cell_type": "code",
   "execution_count": 13,
   "id": "strong-indian",
   "metadata": {},
   "outputs": [],
   "source": [
    "add_enrichments(FilterBy_stress, \"data/find_enrichment_results/FilterBy_stress_Cubes_90_Overlap_80/study_\", \".txt_enrichment.tsv\")\n",
    "annotate_with_enrichment(FilterBy_stress)"
   ]
  },
  {
   "cell_type": "code",
   "execution_count": 14,
   "id": "documentary-current",
   "metadata": {},
   "outputs": [],
   "source": [
    "reset_color(FilterBy_stress)\n",
    "color_if_contains(FilterBy_stress, ['response to stress'], color='#e25738')"
   ]
  },
  {
   "cell_type": "code",
   "execution_count": 16,
   "id": "fuzzy-novelty",
   "metadata": {},
   "outputs": [
    {
     "data": {
      "text/html": [
       "\n",
       "        <iframe\n",
       "            width=\"1500px\"\n",
       "            height=\"1000px\"\n",
       "            src=\"example.html\"\n",
       "            frameborder=\"0\"\n",
       "            allowfullscreen\n",
       "        ></iframe>\n",
       "        "
      ],
      "text/plain": [
       "<IPython.lib.display.IFrame at 0x7fe0c3418730>"
      ]
     },
     "execution_count": 16,
     "metadata": {},
     "output_type": "execute_result"
    }
   ],
   "source": [
    "g = net.Network(notebook=True, height='1000px', width='1500px')\n",
    "g.from_nx(FilterBy_stress)\n",
    "g.show(\"example.html\")"
   ]
  },
  {
   "cell_type": "code",
   "execution_count": 17,
   "id": "dried-garden",
   "metadata": {},
   "outputs": [],
   "source": [
    "FilterBy_tissue = read_graph(\"data/Mapper_Graphs/FilterBy_tissue_Cubes_80_Overlap_60.json\", \n",
    "                            \"data/Mapper_Graphs/FilterBy_tissue_Cubes_80_Overlap_60.csv\", \n",
    "                            orthogroup_path)"
   ]
  },
  {
   "cell_type": "code",
   "execution_count": 18,
   "id": "swiss-provision",
   "metadata": {},
   "outputs": [
    {
     "data": {
      "text/html": [
       "\n",
       "        <iframe\n",
       "            width=\"1500px\"\n",
       "            height=\"1000px\"\n",
       "            src=\"example.html\"\n",
       "            frameborder=\"0\"\n",
       "            allowfullscreen\n",
       "        ></iframe>\n",
       "        "
      ],
      "text/plain": [
       "<IPython.lib.display.IFrame at 0x7fe0c3418be0>"
      ]
     },
     "execution_count": 18,
     "metadata": {},
     "output_type": "execute_result"
    }
   ],
   "source": [
    "g = net.Network(notebook=True, height='1000px', width='1500px')\n",
    "g.from_nx(FilterBy_tissue)\n",
    "g.show(\"example.html\")"
   ]
  }
 ],
 "metadata": {
  "kernelspec": {
   "display_name": "Python 3",
   "language": "python",
   "name": "python3"
  },
  "language_info": {
   "codemirror_mode": {
    "name": "ipython",
    "version": 3
   },
   "file_extension": ".py",
   "mimetype": "text/x-python",
   "name": "python",
   "nbconvert_exporter": "python",
   "pygments_lexer": "ipython3",
   "version": "3.8.6"
  }
 },
 "nbformat": 4,
 "nbformat_minor": 5
}
